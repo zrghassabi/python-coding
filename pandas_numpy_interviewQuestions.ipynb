{
  "nbformat": 4,
  "nbformat_minor": 0,
  "metadata": {
    "colab": {
      "private_outputs": true,
      "provenance": [],
      "gpuType": "T4",
      "authorship_tag": "ABX9TyP/K4WSeJOe/O8EOKmHqY+Y",
      "include_colab_link": true
    },
    "kernelspec": {
      "name": "python3",
      "display_name": "Python 3"
    },
    "language_info": {
      "name": "python"
    },
    "accelerator": "GPU"
  },
  "cells": [
    {
      "cell_type": "markdown",
      "metadata": {
        "id": "view-in-github",
        "colab_type": "text"
      },
      "source": [
        "<a href=\"https://colab.research.google.com/github/zrghassabi/python-coding/blob/main/pandas_numpy_interviewQuestions.ipynb\" target=\"_parent\"><img src=\"https://colab.research.google.com/assets/colab-badge.svg\" alt=\"Open In Colab\"/></a>"
      ]
    },
    {
      "cell_type": "code",
      "execution_count": null,
      "metadata": {
        "id": "F15xIqemprSn"
      },
      "outputs": [],
      "source": [
        "import numpy as np\n",
        "import pandas as pd"
      ]
    },
    {
      "cell_type": "code",
      "source": [
        "arr=np.random.rand(24)\n",
        "\n",
        "print(arr)"
      ],
      "metadata": {
        "id": "KkVPCwA_qM4A"
      },
      "execution_count": null,
      "outputs": []
    },
    {
      "cell_type": "code",
      "source": [
        "#Reshape to a 3d array with the first 2 dimensions being 3,2 and the last dimension being unspecified\n",
        "\n",
        "reshaped_arr=arr.reshape(3,2,-1)\n",
        "\n",
        "print(reshaped_arr)\n"
      ],
      "metadata": {
        "id": "b90eKkNnqmmO"
      },
      "execution_count": null,
      "outputs": []
    },
    {
      "cell_type": "code",
      "source": [
        "#Sum across the second dimension to get a 3x4 matrix\n",
        "\n",
        "sumresults=reshaped_arr.sum(axis=1)\n",
        "\n",
        "print(sumresults)"
      ],
      "metadata": {
        "id": "ig5vyhDarWQy"
      },
      "execution_count": null,
      "outputs": []
    },
    {
      "cell_type": "code",
      "source": [
        "transposematrix=sumresults.T\n",
        "print(transposematrix)\n",
        "\n",
        "print(transposematrix.shape)"
      ],
      "metadata": {
        "id": "8naolchksNfY"
      },
      "execution_count": null,
      "outputs": []
    },
    {
      "cell_type": "code",
      "source": [
        "#Convert to a pandas DataFrame with columns A, B, and C\n",
        "\n",
        "df=pd.DataFrame(transposematrix, columns=['A','B','C'])\n",
        "print(df)"
      ],
      "metadata": {
        "id": "_rIX-_Agsslh"
      },
      "execution_count": null,
      "outputs": []
    },
    {
      "cell_type": "code",
      "source": [
        "df_dropped=df.drop(columns=['B'])\n",
        "print(df_dropped)"
      ],
      "metadata": {
        "id": "wENCeivGtGSf"
      },
      "execution_count": null,
      "outputs": []
    },
    {
      "cell_type": "code",
      "source": [
        "#Create a new column D in which each row has the value of column A\n",
        "#if that value is > 0.5 else use the value of column C\n",
        "\n",
        "df['D']=np.where(df['A']>0.8,df['A'],df['C'])\n",
        "\n",
        "print(df)\n"
      ],
      "metadata": {
        "id": "91TTLXs_thNv"
      },
      "execution_count": null,
      "outputs": []
    },
    {
      "cell_type": "code",
      "source": [
        "#You’re a vindictive professor 👨‍🏫 and one of your pet peeves is\n",
        "# when students rush through their exams. To teach them a lesson, you decide to give zeros\n",
        "#to the first three students who score less than sixty, in the order they turned in their\n",
        "# exams.\n",
        "\n",
        "#Given a 1-d array of integers, identify the first three values less than sixty\n",
        "# and replace them with zero.\n",
        "\n",
        "generator = np.random.default_rng(80085)\n",
        "\n",
        "scores = np.round(generator.uniform(low=30, high=100, size=15))\n",
        "\n",
        "print(scores)\n",
        "\n",
        "indices=np.where(scores<60)[0]\n",
        "\n",
        "scores[indices[:3]]=0\n",
        "\n",
        "print(scores)\n",
        ""
      ],
      "metadata": {
        "id": "ZbCSaVTsuwos"
      },
      "execution_count": null,
      "outputs": []
    },
    {
      "cell_type": "code",
      "source": [],
      "metadata": {
        "id": "5ZCHpwphv4k6"
      },
      "execution_count": null,
      "outputs": []
    }
  ]
}