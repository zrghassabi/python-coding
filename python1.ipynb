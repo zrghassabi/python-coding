{
 "cells": [
  {
   "cell_type": "markdown",
   "metadata": {},
   "source": [
    "PYTHON TUTORIAL"
   ]
  },
  {
   "cell_type": "markdown",
   "metadata": {},
   "source": [
    "I inspired by this book to provide quick tutorial on python\n",
    "\n",
    "https://github.com/NiloofarMn/python_tutorial_in_persian\n",
    "\n",
    "For more info:\n",
    "\n",
    "https://numpy.org/doc/stable/user/quickstart.html\n",
    "\n",
    "https://docs.python.org/3/library/random.html \n",
    "\n",
    "https://matplotlib.org/stable/gallery/index.html\n",
    "\n",
    "\n",
    "For more examples:\n",
    "\n",
    "https://coderbyte.com/interview-kit/algorithms"
   ]
  },
  {
   "cell_type": "markdown",
   "metadata": {},
   "source": [
    "DATA STRUCTURES IN PYTHON:"
   ]
  },
  {
   "cell_type": "code",
   "execution_count": null,
   "metadata": {},
   "outputs": [],
   "source": [
    "LIST1=[1,2,3,4]\n",
    "Tuple1=(1,2,3,4)\n",
    "Set1={1,2,3,4}\n",
    "Dictionary1={'key1':1, 'key2':2}"
   ]
  },
  {
   "cell_type": "markdown",
   "metadata": {},
   "source": [
    "Some simple programs for warm up :"
   ]
  },
  {
   "cell_type": "code",
   "execution_count": 4,
   "metadata": {},
   "outputs": [
    {
     "name": "stdin",
     "output_type": "stream",
     "text": [
      "please enter a number 10\n"
     ]
    },
    {
     "name": "stdout",
     "output_type": "stream",
     "text": [
      "your number is posotive\n"
     ]
    }
   ],
   "source": [
    "#if input number is positive\n",
    "n=input('please enter a number')\n",
    "n=int(n)\n",
    "if n<0:\n",
    "    print('your number is negative')\n",
    "else:\n",
    "    print('your number is posotive') "
   ]
  },
  {
   "cell_type": "code",
   "execution_count": 15,
   "metadata": {},
   "outputs": [
    {
     "name": "stdout",
     "output_type": "stream",
     "text": [
      "Area of Circle is : 12.566370614359172\n"
     ]
    }
   ],
   "source": [
    "# get radius and compute circle area\n",
    "import numpy as np\n",
    "\n",
    "r=2\n",
    "\n",
    "def  circle_area(r):\n",
    "    pi=3.14\n",
    "    Area=np.pi*r*r\n",
    "    return Area\n",
    "\n",
    "\n",
    "AreaOfCircle=circle_area(r)\n",
    "print('Area of Circle is :', AreaOfCircle)"
   ]
  },
  {
   "cell_type": "code",
   "execution_count": 16,
   "metadata": {},
   "outputs": [
    {
     "name": "stdout",
     "output_type": "stream",
     "text": [
      "18\n"
     ]
    }
   ],
   "source": [
    "#lenght of a string\n",
    "s=\"I am a happy girl.\"\n",
    "print(len(s))"
   ]
  },
  {
   "cell_type": "code",
   "execution_count": 23,
   "metadata": {},
   "outputs": [
    {
     "name": "stdout",
     "output_type": "stream",
     "text": [
      "length of string is: 18\n"
     ]
    }
   ],
   "source": [
    "#how to count lenght of a string\n",
    "counter=0\n",
    "for ch in s:\n",
    "    counter+=1\n",
    "\n",
    "print('length of string is:',counter)"
   ]
  },
  {
   "cell_type": "code",
   "execution_count": 39,
   "metadata": {},
   "outputs": [
    {
     "name": "stdout",
     "output_type": "stream",
     "text": [
      "2\n"
     ]
    }
   ],
   "source": [
    "#how to find a specific character# in a string\n",
    "\n",
    "def num_of_a_character_in_string(query):\n",
    "    counter=0\n",
    "    list=[]\n",
    "    for ch in s:\n",
    "        if query==ch:\n",
    "            counter+=1\n",
    "\n",
    "    return counter\n",
    "\n",
    "query='p'\n",
    "counter=num_of_a_character_in_string(query)\n",
    "print(counter)\n",
    "    "
   ]
  },
  {
   "cell_type": "code",
   "execution_count": 56,
   "metadata": {},
   "outputs": [
    {
     "name": "stdout",
     "output_type": "stream",
     "text": [
      ".\n",
      "l\n",
      "r\n",
      "i\n",
      "g\n",
      " \n",
      "y\n",
      "p\n",
      "p\n",
      "a\n",
      "h\n",
      " \n",
      "a\n",
      " \n",
      "m\n",
      "a\n",
      " \n",
      "I\n",
      ".lrig yppah a ma I\n"
     ]
    }
   ],
   "source": [
    "#print out a string in reverse \n",
    "\n",
    "def reverse(s):\n",
    "    for i in range(len(s)-1,-1,-1):\n",
    "        print(s[i])      \n",
    "\n",
    "reverse(s)\n",
    "\n",
    "#approach 2\n",
    "print(s[::-1])"
   ]
  },
  {
   "cell_type": "code",
   "execution_count": 77,
   "metadata": {},
   "outputs": [
    {
     "name": "stdout",
     "output_type": "stream",
     "text": [
      "string S is Palindrom\n"
     ]
    }
   ],
   "source": [
    "# if a string is symetric?\n",
    "\n",
    "S='1234321'\n",
    "\n",
    "ISPalindrome=True\n",
    "\n",
    "while len(S)>1:\n",
    "    if S[0]!=S[-1]:\n",
    "        print('s is not symetric')\n",
    "        ISPalindrome=False\n",
    "        break        \n",
    "    S=S[1:-1]\n",
    "    \n",
    "if ISPalindrome==True:   \n",
    "    print (\"string S is Palindrom\") \n",
    "    \n",
    "\n"
   ]
  },
  {
   "cell_type": "markdown",
   "metadata": {},
   "source": [
    "Lists"
   ]
  },
  {
   "cell_type": "code",
   "execution_count": 80,
   "metadata": {},
   "outputs": [
    {
     "name": "stdout",
     "output_type": "stream",
     "text": [
      "['Rose', 'Love', 'Happiness', 'beautiful Life', 'Thanks God', 'selflove']\n"
     ]
    }
   ],
   "source": [
    "List1=['Rose', 'Love', 'Happiness', 'beautiful Life', 'Thanks God']\n",
    "List1.append('selflove')\n",
    "print(List1)"
   ]
  },
  {
   "cell_type": "code",
   "execution_count": 81,
   "metadata": {},
   "outputs": [
    {
     "name": "stdout",
     "output_type": "stream",
     "text": [
      "['Rose', 'Love', 'Happiness', 'beautiful Life', 'Thanks God']\n"
     ]
    }
   ],
   "source": [
    "List1.remove('selflove')\n",
    "print(List1)"
   ]
  },
  {
   "cell_type": "code",
   "execution_count": 84,
   "metadata": {},
   "outputs": [
    {
     "name": "stdout",
     "output_type": "stream",
     "text": [
      "['Rose', 'Love', 'Happiness', 'beautiful Life']\n"
     ]
    }
   ],
   "source": [
    "List1.pop()\n",
    "print(List1)"
   ]
  },
  {
   "cell_type": "code",
   "execution_count": 92,
   "metadata": {},
   "outputs": [
    {
     "name": "stdout",
     "output_type": "stream",
     "text": [
      "['Rose', 'Love', 'Happiness', 'beautiful Life', 'Thanks Creator', 'Love yourself']\n"
     ]
    }
   ],
   "source": [
    "List1.extend(['Thanks Creator', 'Love yourself'])\n",
    "print(List1)"
   ]
  },
  {
   "cell_type": "code",
   "execution_count": 93,
   "metadata": {},
   "outputs": [
    {
     "name": "stdout",
     "output_type": "stream",
     "text": [
      "['Rose', 'Love', 'Happiness', 'beautiful Life', 'Thanks Creator', 'Love yourself', 'great Day']\n"
     ]
    }
   ],
   "source": [
    "List1=List1+['great Day']\n",
    "print(List1)"
   ]
  },
  {
   "cell_type": "code",
   "execution_count": 94,
   "metadata": {},
   "outputs": [
    {
     "name": "stdout",
     "output_type": "stream",
     "text": [
      "Rose\n"
     ]
    }
   ],
   "source": [
    "print(List1[0])"
   ]
  },
  {
   "cell_type": "code",
   "execution_count": 95,
   "metadata": {},
   "outputs": [
    {
     "name": "stdout",
     "output_type": "stream",
     "text": [
      "great Day\n"
     ]
    }
   ],
   "source": [
    "print(List1[-1])"
   ]
  },
  {
   "cell_type": "code",
   "execution_count": 105,
   "metadata": {},
   "outputs": [
    {
     "name": "stdout",
     "output_type": "stream",
     "text": [
      "1\n",
      "7\n",
      "9\n"
     ]
    }
   ],
   "source": [
    "#print odd numbers in the list\n",
    "\n",
    "List=[1, 7, 8, 9]\n",
    "\n",
    "for num in List:\n",
    "    if num%2==1:\n",
    "        print(num)\n",
    "        "
   ]
  },
  {
   "cell_type": "code",
   "execution_count": 106,
   "metadata": {},
   "outputs": [
    {
     "name": "stdout",
     "output_type": "stream",
     "text": [
      "[1, -7, 8, 9]\n"
     ]
    }
   ],
   "source": [
    "for i in range(0,len(List)-1):\n",
    "    if i%2==1:\n",
    "        List[i]=-List[i]\n",
    "        \n",
    "print(List)\n",
    "      \n"
   ]
  },
  {
   "cell_type": "markdown",
   "metadata": {},
   "source": [
    "Tuple"
   ]
  },
  {
   "cell_type": "code",
   "execution_count": null,
   "metadata": {},
   "outputs": [],
   "source": [
    "#Tuple is immutable\n",
    "\n",
    "Tuple1=(1,2,3,5)\n",
    "Tuple2=(6)\n",
    "Tuple3=()\n",
    "\n",
    "Tuple1=Tuple1[:3]+(4,)+Tuple1[3:]  #insert one value between two elements of Tuple\n",
    "print(Tuple1)"
   ]
  },
  {
   "cell_type": "code",
   "execution_count": 7,
   "metadata": {},
   "outputs": [
    {
     "name": "stdin",
     "output_type": "stream",
     "text": [
      "Would you like to continue? y\n",
      "please enter name of student Rose\n",
      "please enter score of student 100\n",
      "Would you like to continue? y\n",
      "please enter name of student Rose2\n",
      "please enter score of student 100\n",
      "Would you like to continue? n\n"
     ]
    },
    {
     "name": "stdout",
     "output_type": "stream",
     "text": [
      "[('Rose', 100.0), ('Rose2', 100.0)]\n"
     ]
    }
   ],
   "source": [
    "\n",
    "\n",
    "Students=[]\n",
    "while True:\n",
    "    n=input('Would you like to continue?')\n",
    "    if n in ['n','no','N','NO','No','nO','']:\n",
    "        break\n",
    "    else:    \n",
    "        name=input('please enter name of student')\n",
    "        score=float(input('please enter score of student'))\n",
    "        Students.append((name, score)) \n",
    "        \n",
    "        \n",
    "print(Students)        \n",
    "        \n",
    "    \n",
    "    "
   ]
  },
  {
   "cell_type": "markdown",
   "metadata": {},
   "source": [
    "Matrix"
   ]
  },
  {
   "cell_type": "code",
   "execution_count": 55,
   "metadata": {},
   "outputs": [
    {
     "name": "stdout",
     "output_type": "stream",
     "text": [
      "The right answer is: [[2, 24, 42], [66, 13, 10]]\n"
     ]
    }
   ],
   "source": [
    "# sum of two matrices\n",
    "m1 = [[1,1,1],[1,1,1]]\n",
    "m2 = [[1,23,41],[65,12,9]]\n",
    "\n",
    "m3 = []\n",
    "for i in range(len(m1)):\n",
    "    temp = []\n",
    "    for j in range(len(m1[i])):\n",
    "        temp.append(m1[i][j]+m2[i][j])\n",
    "    m3.append(temp)\n",
    "print('The right answer is:',m3)"
   ]
  },
  {
   "cell_type": "code",
   "execution_count": 59,
   "metadata": {},
   "outputs": [
    {
     "name": "stdin",
     "output_type": "stream",
     "text": [
      "size of matrix 2\n"
     ]
    },
    {
     "name": "stdout",
     "output_type": "stream",
     "text": [
      "[[1, 1], [1, 1]]\n"
     ]
    }
   ],
   "source": [
    "#creat a matric\n",
    "\n",
    "size=input('size of matrix')\n",
    "mat=[]\n",
    "temp=[]\n",
    "for i in (0,len(size)):\n",
    "    for i in (0,len(size)):\n",
    "        temp.append(1)\n",
    "        \n",
    "    mat.append(temp) \n",
    "    temp=[]\n",
    "        \n",
    "        \n",
    "print(mat)        \n",
    "        \n",
    "   "
   ]
  },
  {
   "cell_type": "code",
   "execution_count": 63,
   "metadata": {},
   "outputs": [
    {
     "name": "stdout",
     "output_type": "stream",
     "text": [
      "(2, 1)\n",
      "(2, 4)\n",
      "(21, 4)\n",
      "(32, 65)\n",
      "(35, 4)\n",
      "(6, 12)\n"
     ]
    }
   ],
   "source": [
    "tup = ((2,1),(2,4),(21,4),(32,65),(35,4),(6,12))\n",
    "\n",
    "for s in tup:\n",
    "    print(s)\n"
   ]
  },
  {
   "cell_type": "code",
   "execution_count": 65,
   "metadata": {},
   "outputs": [
    {
     "name": "stdout",
     "output_type": "stream",
     "text": [
      "{32, 1, 2, 65, 4, 35, 6, 12, 21}\n"
     ]
    }
   ],
   "source": [
    "#find unique values of tuple\n",
    "\n",
    "myNumbers = []\n",
    "for x,y in tup:\n",
    "    myNumbers = myNumbers + [x,y]\n",
    "mySet = set(myNumbers)\n",
    "print(mySet)\n"
   ]
  },
  {
   "cell_type": "code",
   "execution_count": 66,
   "metadata": {},
   "outputs": [
    {
     "name": "stdout",
     "output_type": "stream",
     "text": [
      "{32, 1, 2, 65, 4, 35, 12, 46, 21}\n"
     ]
    }
   ],
   "source": [
    "tup = ((2,1),(2,4,21,4),(32,65),(35,46,12))\n",
    "\n",
    "myNumbers = []\n",
    "for t in tup:\n",
    "    myNumbers = myNumbers + list(t)\n",
    "mySet = set(myNumbers)\n",
    "print(mySet)"
   ]
  },
  {
   "cell_type": "markdown",
   "metadata": {},
   "source": [
    "Random Module"
   ]
  },
  {
   "cell_type": "code",
   "execution_count": 69,
   "metadata": {},
   "outputs": [
    {
     "data": {
      "text/plain": [
       "array([[ 0,  1,  2,  3,  4],\n",
       "       [ 5,  6,  7,  8,  9],\n",
       "       [10, 11, 12, 13, 14]])"
      ]
     },
     "execution_count": 69,
     "metadata": {},
     "output_type": "execute_result"
    }
   ],
   "source": [
    "import numpy as np\n",
    "\n",
    "a = np.arange(15).reshape(3, 5) \n",
    "a.shape\n",
    "a"
   ]
  },
  {
   "cell_type": "code",
   "execution_count": 71,
   "metadata": {},
   "outputs": [
    {
     "data": {
      "text/plain": [
       "array([6, 7, 8])"
      ]
     },
     "execution_count": 71,
     "metadata": {},
     "output_type": "execute_result"
    }
   ],
   "source": [
    "b = np.array([6, 7, 8])\n",
    "b"
   ]
  },
  {
   "cell_type": "code",
   "execution_count": 72,
   "metadata": {},
   "outputs": [
    {
     "data": {
      "text/plain": [
       "array([[0., 0., 0., 0.],\n",
       "       [0., 0., 0., 0.],\n",
       "       [0., 0., 0., 0.]])"
      ]
     },
     "execution_count": 72,
     "metadata": {},
     "output_type": "execute_result"
    }
   ],
   "source": [
    "np.zeros((3, 4))"
   ]
  },
  {
   "cell_type": "code",
   "execution_count": 73,
   "metadata": {},
   "outputs": [
    {
     "data": {
      "text/plain": [
       "array([[1., 1., 1., 1.],\n",
       "       [1., 1., 1., 1.],\n",
       "       [1., 1., 1., 1.]])"
      ]
     },
     "execution_count": 73,
     "metadata": {},
     "output_type": "execute_result"
    }
   ],
   "source": [
    "np.ones((3, 4))"
   ]
  },
  {
   "cell_type": "code",
   "execution_count": 74,
   "metadata": {},
   "outputs": [
    {
     "data": {
      "text/plain": [
       "array([[1., 0., 0.],\n",
       "       [0., 1., 0.],\n",
       "       [0., 0., 1.]])"
      ]
     },
     "execution_count": 74,
     "metadata": {},
     "output_type": "execute_result"
    }
   ],
   "source": [
    " np.eye(3)"
   ]
  },
  {
   "cell_type": "code",
   "execution_count": 75,
   "metadata": {},
   "outputs": [
    {
     "data": {
      "text/plain": [
       "array([0. , 0.3, 0.6, 0.9, 1.2, 1.5, 1.8])"
      ]
     },
     "execution_count": 75,
     "metadata": {},
     "output_type": "execute_result"
    }
   ],
   "source": [
    "np.arange(0, 2, 0.3)"
   ]
  },
  {
   "cell_type": "code",
   "execution_count": 76,
   "metadata": {},
   "outputs": [
    {
     "data": {
      "text/plain": [
       "array([0.  , 0.25, 0.5 , 0.75, 1.  , 1.25, 1.5 , 1.75, 2.  ])"
      ]
     },
     "execution_count": 76,
     "metadata": {},
     "output_type": "execute_result"
    }
   ],
   "source": [
    "from numpy import linspace\n",
    "\n",
    "linspace(0, 2, 9)"
   ]
  },
  {
   "cell_type": "code",
   "execution_count": 77,
   "metadata": {},
   "outputs": [
    {
     "data": {
      "text/plain": [
       "array([[2, 0],\n",
       "       [0, 4]])"
      ]
     },
     "execution_count": 77,
     "metadata": {},
     "output_type": "execute_result"
    }
   ],
   "source": [
    "A = np.array([[1, 1],\n",
    "              [0, 1]])\n",
    "B = np.array([[2, 0],\n",
    "              [3, 4]])\n",
    "A * B"
   ]
  },
  {
   "cell_type": "code",
   "execution_count": 78,
   "metadata": {},
   "outputs": [
    {
     "data": {
      "text/plain": [
       "array([[3, 1],\n",
       "       [3, 5]])"
      ]
     },
     "execution_count": 78,
     "metadata": {},
     "output_type": "execute_result"
    }
   ],
   "source": [
    "A + B "
   ]
  },
  {
   "cell_type": "code",
   "execution_count": 79,
   "metadata": {},
   "outputs": [
    {
     "data": {
      "text/plain": [
       "array([[5, 4],\n",
       "       [3, 4]])"
      ]
     },
     "execution_count": 79,
     "metadata": {},
     "output_type": "execute_result"
    }
   ],
   "source": [
    "A.dot(B)"
   ]
  },
  {
   "cell_type": "code",
   "execution_count": 81,
   "metadata": {},
   "outputs": [
    {
     "data": {
      "text/plain": [
       "array([[0.81594333, 0.38264562, 0.8967458 ],\n",
       "       [0.70930437, 0.68698195, 0.99873224]])"
      ]
     },
     "execution_count": 81,
     "metadata": {},
     "output_type": "execute_result"
    }
   ],
   "source": [
    "a = np.random.random((2,3))\n",
    "a"
   ]
  },
  {
   "cell_type": "code",
   "execution_count": 82,
   "metadata": {},
   "outputs": [
    {
     "data": {
      "text/plain": [
       "4.490353305809238"
      ]
     },
     "execution_count": 82,
     "metadata": {},
     "output_type": "execute_result"
    }
   ],
   "source": [
    "a.sum()"
   ]
  },
  {
   "cell_type": "code",
   "execution_count": 83,
   "metadata": {},
   "outputs": [
    {
     "data": {
      "text/plain": [
       "0.38264562088045273"
      ]
     },
     "execution_count": 83,
     "metadata": {},
     "output_type": "execute_result"
    }
   ],
   "source": [
    "a.min()"
   ]
  },
  {
   "cell_type": "code",
   "execution_count": 84,
   "metadata": {},
   "outputs": [
    {
     "data": {
      "text/plain": [
       "0.9987322371881401"
      ]
     },
     "execution_count": 84,
     "metadata": {},
     "output_type": "execute_result"
    }
   ],
   "source": [
    "a.max()"
   ]
  },
  {
   "cell_type": "code",
   "execution_count": 85,
   "metadata": {},
   "outputs": [
    {
     "name": "stdout",
     "output_type": "stream",
     "text": [
      "0.13436424411240122\n",
      "0.8474337369372327\n",
      "0.763774618976614\n",
      "0.2550690257394217\n",
      "-*--*--*--*--*--*--*--*--*--*-\n",
      "0.13436424411240122\n",
      "0.8474337369372327\n",
      "0.763774618976614\n",
      "0.2550690257394217\n"
     ]
    }
   ],
   "source": [
    "import random\n",
    "random.seed(1)\n",
    "print(random.random())\n",
    "print(random.random())\n",
    "print(random.random())\n",
    "print(random.random())\n",
    "print('-*-'*10)\n",
    "random.seed(1)\n",
    "print(random.random())\n",
    "print(random.random())\n",
    "print(random.random())\n",
    "print(random.random())"
   ]
  },
  {
   "cell_type": "code",
   "execution_count": 86,
   "metadata": {},
   "outputs": [
    {
     "name": "stdout",
     "output_type": "stream",
     "text": [
      "7\n"
     ]
    }
   ],
   "source": [
    "print(random.randrange(0,10))\n"
   ]
  },
  {
   "cell_type": "code",
   "execution_count": 87,
   "metadata": {},
   "outputs": [
    {
     "data": {
      "text/plain": [
       "17"
      ]
     },
     "execution_count": 87,
     "metadata": {},
     "output_type": "execute_result"
    }
   ],
   "source": [
    "random.randint(10, 20)"
   ]
  },
  {
   "cell_type": "code",
   "execution_count": 88,
   "metadata": {},
   "outputs": [
    {
     "data": {
      "text/plain": [
       "9"
      ]
     },
     "execution_count": 88,
     "metadata": {},
     "output_type": "execute_result"
    }
   ],
   "source": [
    "random.choice([2,5,7,9])"
   ]
  },
  {
   "cell_type": "code",
   "execution_count": 89,
   "metadata": {},
   "outputs": [
    {
     "name": "stdout",
     "output_type": "stream",
     "text": [
      "[2, 3, 1, 4]\n"
     ]
    }
   ],
   "source": [
    "l = [1,2,3,4]\n",
    "random.shuffle(l)\n",
    "print(l)"
   ]
  },
  {
   "cell_type": "code",
   "execution_count": 90,
   "metadata": {},
   "outputs": [
    {
     "data": {
      "text/plain": [
       "5.390709908717328"
      ]
     },
     "execution_count": 90,
     "metadata": {},
     "output_type": "execute_result"
    }
   ],
   "source": [
    "random.uniform(1,10)"
   ]
  },
  {
   "cell_type": "code",
   "execution_count": 91,
   "metadata": {},
   "outputs": [
    {
     "data": {
      "text/plain": [
       "0.8933170425576351"
      ]
     },
     "execution_count": 91,
     "metadata": {},
     "output_type": "execute_result"
    }
   ],
   "source": [
    "random.random()"
   ]
  },
  {
   "cell_type": "code",
   "execution_count": 92,
   "metadata": {},
   "outputs": [
    {
     "data": {
      "text/plain": [
       "6.315734326516944"
      ]
     },
     "execution_count": 92,
     "metadata": {},
     "output_type": "execute_result"
    }
   ],
   "source": [
    "random.gauss(mu=10, sigma=3.5)"
   ]
  },
  {
   "cell_type": "code",
   "execution_count": 93,
   "metadata": {},
   "outputs": [
    {
     "data": {
      "text/plain": [
       "15.273768878581492"
      ]
     },
     "execution_count": 93,
     "metadata": {},
     "output_type": "execute_result"
    }
   ],
   "source": [
    "random.normalvariate(mu=10, sigma=3.5)"
   ]
  },
  {
   "cell_type": "markdown",
   "metadata": {},
   "source": [
    "how to plot figures"
   ]
  },
  {
   "cell_type": "code",
   "execution_count": 3,
   "metadata": {},
   "outputs": [
    {
     "data": {
      "text/plain": [
       "[<matplotlib.lines.Line2D at 0x120d0c160>]"
      ]
     },
     "execution_count": 3,
     "metadata": {},
     "output_type": "execute_result"
    },
    {
     "data": {
      "image/png": "[encoded data removed]",
      "text/plain": [
       "<Figure size 432x288 with 1 Axes>"
      ]
     },
     "metadata": {
      "needs_background": "light"
     },
     "output_type": "display_data"
    }
   ],
   "source": [
    "from matplotlib import pyplot as plt\n",
    "\n",
    "l=[1,2,3,4,5,6,7,70]\n",
    "plt.plot(l)\n",
    "#plt.show()"
   ]
  },
  {
   "cell_type": "code",
   "execution_count": 4,
   "metadata": {},
   "outputs": [
    {
     "data": {
      "text/plain": [
       "[<matplotlib.lines.Line2D at 0x120e191f0>]"
      ]
     },
     "execution_count": 4,
     "metadata": {},
     "output_type": "execute_result"
    },
    {
     "data": {
      "image/png": "[encoded data removed]",
      "text/plain": [
       "<Figure size 432x288 with 1 Axes>"
      ]
     },
     "metadata": {
      "needs_background": "light"
     },
     "output_type": "display_data"
    }
   ],
   "source": [
    "plt.plot(l,'.')"
   ]
  },
  {
   "cell_type": "code",
   "execution_count": 9,
   "metadata": {},
   "outputs": [
    {
     "data": {
      "text/plain": [
       "<BarContainer object of 8 artists>"
      ]
     },
     "execution_count": 9,
     "metadata": {},
     "output_type": "execute_result"
    },
    {
     "data": {
      "image/png": "[encoded data removed]",
      "text/plain": [
       "<Figure size 432x288 with 1 Axes>"
      ]
     },
     "metadata": {
      "needs_background": "light"
     },
     "output_type": "display_data"
    }
   ],
   "source": [
    "plt.bar(range(len(l)),l)\n"
   ]
  },
  {
   "cell_type": "code",
   "execution_count": 10,
   "metadata": {},
   "outputs": [
    {
     "data": {
      "text/plain": [
       "<matplotlib.collections.PathCollection at 0x12141e5b0>"
      ]
     },
     "execution_count": 10,
     "metadata": {},
     "output_type": "execute_result"
    },
    {
     "data": {
      "image/png": "[encoded data removed]",
      "text/plain": [
       "<Figure size 432x288 with 1 Axes>"
      ]
     },
     "metadata": {
      "needs_background": "light"
     },
     "output_type": "display_data"
    }
   ],
   "source": [
    "plt.scatter(range(len(l)),l)"
   ]
  },
  {
   "cell_type": "code",
   "execution_count": 11,
   "metadata": {},
   "outputs": [
    {
     "data": {
      "text/plain": [
       "(array([7., 0., 0., 0., 0., 0., 0., 0., 0., 1.]),\n",
       " array([ 1. ,  7.9, 14.8, 21.7, 28.6, 35.5, 42.4, 49.3, 56.2, 63.1, 70. ]),\n",
       " <BarContainer object of 10 artists>)"
      ]
     },
     "execution_count": 11,
     "metadata": {},
     "output_type": "execute_result"
    },
    {
     "data": {
      "image/png": "[encoded data removed]",
      "text/plain": [
       "<Figure size 432x288 with 1 Axes>"
      ]
     },
     "metadata": {
      "needs_background": "light"
     },
     "output_type": "display_data"
    }
   ],
   "source": [
    "plt.hist(l)"
   ]
  },
  {
   "cell_type": "code",
   "execution_count": 21,
   "metadata": {},
   "outputs": [
    {
     "data": {
      "image/png": "[encoded data removed]",
      "text/plain": [
       "<Figure size 720x360 with 1 Axes>"
      ]
     },
     "metadata": {
      "needs_background": "light"
     },
     "output_type": "display_data"
    }
   ],
   "source": [
    "l.sort()\n",
    "plt.figure(figsize=(10,5))\n",
    "plt.plot(l,'g--')\n",
    "plt.title('This is a an exmpale of a plot')\n",
    "plt.xlabel('X axis')\n",
    "plt.ylabel('Y axis')\n",
    "plt.xticks(range(0,len(l),2))\n",
    "plt.grid(True,axis='x')\n",
    "\n",
    "#plt.show()"
   ]
  },
  {
   "cell_type": "code",
   "execution_count": 27,
   "metadata": {},
   "outputs": [
    {
     "data": {
      "text/plain": [
       "Text(0.5, 0.98, 'This is a an exmpale of a plot')"
      ]
     },
     "execution_count": 27,
     "metadata": {},
     "output_type": "execute_result"
    },
    {
     "data": {
      "image/png": "[encoded data removed]",
      "text/plain": [
       "<Figure size 648x360 with 1 Axes>"
      ]
     },
     "metadata": {
      "needs_background": "light"
     },
     "output_type": "display_data"
    },
    {
     "data": {
      "image/png": "[encoded data removed]",
      "text/plain": [
       "<Figure size 648x216 with 1 Axes>"
      ]
     },
     "metadata": {
      "needs_background": "light"
     },
     "output_type": "display_data"
    },
    {
     "data": {
      "image/png": "[encoded data removed]",
      "text/plain": [
       "<Figure size 648x216 with 1 Axes>"
      ]
     },
     "metadata": {
      "needs_background": "light"
     },
     "output_type": "display_data"
    }
   ],
   "source": [
    "l.sort()\n",
    "plt.figure(figsize=(9,5))\n",
    "plt.subplot(311)\n",
    "plt.bar(range(len(l)),l)\n",
    "plt.xlabel('X axis')\n",
    "\n",
    "plt.figure(figsize=(9,3))\n",
    "plt.subplot(312)\n",
    "plt.scatter(range(len(l)),l)\n",
    "plt.title('This is a an exmpale of a plot')\n",
    "plt.xlabel('X axis')\n",
    "plt.ylabel('Y axis')\n",
    "\n",
    "plt.figure(figsize=(9,3))\n",
    "plt.subplot(313)\n",
    "plt.plot(l)\n",
    "plt.xlabel('X axis')\n",
    "\n",
    "plt.suptitle('This is a an exmpale of a plot')\n",
    "\n",
    "\n"
   ]
  },
  {
   "cell_type": "code",
   "execution_count": 42,
   "metadata": {},
   "outputs": [
    {
     "data": {
      "text/plain": [
       "[<matplotlib.lines.Line2D at 0x12113e3a0>,\n",
       " <matplotlib.lines.Line2D at 0x12113e250>,\n",
       " <matplotlib.lines.Line2D at 0x12113e3d0>]"
      ]
     },
     "execution_count": 42,
     "metadata": {},
     "output_type": "execute_result"
    },
    {
     "data": {
      "image/png": "[encoded data removed]",
      "text/plain": [
       "<Figure size 432x288 with 1 Axes>"
      ]
     },
     "metadata": {
      "needs_background": "light"
     },
     "output_type": "display_data"
    }
   ],
   "source": [
    "from matplotlib import pyplot as plt\n",
    "import numpy as np\n",
    "\n",
    "x=np.arange(0.,5.0,0.2)\n",
    "\n",
    "plt.plot(x,x,'--g',x,x**2,'hr', x,3**x,'.')\n",
    "\n"
   ]
  },
  {
   "cell_type": "code",
   "execution_count": 44,
   "metadata": {},
   "outputs": [
    {
     "data": {
      "text/plain": [
       "[<matplotlib.lines.Line2D at 0x1222b3760>]"
      ]
     },
     "execution_count": 44,
     "metadata": {},
     "output_type": "execute_result"
    },
    {
     "data": {
      "image/png": "[encoded data removed]",
      "text/plain": [
       "<Figure size 432x288 with 1 Axes>"
      ]
     },
     "metadata": {
      "needs_background": "light"
     },
     "output_type": "display_data"
    }
   ],
   "source": [
    "from matplotlib import pyplot as plt\n",
    "import numpy as np\n",
    "\n",
    "def cosinus(t):\n",
    "    return np.exp(-t)*np.cos(2*np.pi*t)\n",
    "\n",
    "\n",
    "t=np.arange(0.,5.0,0.2)\n",
    "\n",
    "plt.plot(t,cosinus(t),'--g')"
   ]
  },
  {
   "cell_type": "code",
   "execution_count": 104,
   "metadata": {},
   "outputs": [
    {
     "data": {
      "image/png": "[encoded data removed]",
      "text/plain": [
       "<Figure size 432x288 with 1 Axes>"
      ]
     },
     "metadata": {
      "needs_background": "light"
     },
     "output_type": "display_data"
    }
   ],
   "source": [
    "import numpy as np\n",
    "import matplotlib.pyplot as plt\n",
    "\n",
    "np.random.seed(19680801) \n",
    "\n",
    "mu = 100 \n",
    "sigma = 15  \n",
    "\n",
    "x = mu + sigma * np.random.randn(437) \n",
    "num_bins = 50\n",
    "n, bins, patches = plt.hist(x, num_bins, density=True)\n",
    "\n",
    "y = ((1 / (np.sqrt(2 * np.pi) * sigma)) * \n",
    "     np.exp(-0.5 * (1 / sigma * (bins - mu))**2))\n",
    "plt.plot(bins, y, '--') \n",
    "plt.xlabel('Smarts')\n",
    "plt.ylabel('Probability density')\n",
    "plt.title(r'Histogram of IQ: $\\mu=100$, $\\sigma=15$')\n",
    "\n",
    "plt.show()"
   ]
  },
  {
   "cell_type": "code",
   "execution_count": 107,
   "metadata": {},
   "outputs": [
    {
     "data": {
      "image/png": "[encoded data removed]",
      "text/plain": [
       "<Figure size 432x288 with 1 Axes>"
      ]
     },
     "metadata": {
      "needs_background": "light"
     },
     "output_type": "display_data"
    }
   ],
   "source": [
    "# \n",
    "import numpy as np\n",
    "import matplotlib.pyplot as plt\n",
    "\n",
    "N = 21 \n",
    "x = np.linspace(0, 10, 11) \n",
    "y = [3.9, 4.4, 10.8, 10.3, 11.2, 13.1, 14.1,  9.9, 13.9, 15.1, 12.5] \n",
    "\n",
    "# fit a linear curve an estimate its y-values and their error.\n",
    "a, b = np.polyfit(x, y, deg=1) \n",
    "\n",
    "y_est = a * x + b\n",
    "y_err = x.std() * np.sqrt(1/len(x) +\n",
    "                          (x - x.mean())**2 / np.sum((x - x.mean())**2)) \n",
    "\n",
    "\n",
    "plt.plot(x, y_est, '-')\n",
    "\n",
    "plt.fill_between(x, y_est - y_err, y_est + y_err, alpha=0.2)\n",
    "\n",
    "plt.plot(x, y, 'o', color='tab:brown')\n",
    "plt.show()"
   ]
  },
  {
   "cell_type": "markdown",
   "metadata": {},
   "source": [
    "Files"
   ]
  },
  {
   "cell_type": "code",
   "execution_count": 111,
   "metadata": {},
   "outputs": [
    {
     "name": "stdout",
     "output_type": "stream",
     "text": [
      "I want to add this sentence in the file with name myfile.txt\n",
      "Again, I want to add this sentence in the file with name myfile.txt\n"
     ]
    }
   ],
   "source": [
    "s = 'I want to add this sentence in the file with name myfile.txt'\n",
    "\n",
    "with open('myfile.txt','w') as f:\n",
    "    f.write(s)\n",
    "    f.write('\\n')\n",
    "    f.write('Again, '+s)\n",
    "f.close()\n",
    "\n",
    "\n",
    "with open('myfile.txt','r') as f:\n",
    "    myContent = f.read()\n",
    "    print(myContent)"
   ]
  },
  {
   "cell_type": "code",
   "execution_count": 114,
   "metadata": {},
   "outputs": [
    {
     "name": "stdout",
     "output_type": "stream",
     "text": [
      "['I', 'want', 'to', 'add', 'this', 'sentence', 'in', 'the', 'file', 'with', 'name', 'myfile.txt', 'Again,', 'I', 'want', 'to', 'add', 'this', 'sentence', 'in', 'the', 'file', 'with', 'name', 'myfile.txt']\n",
      "2\n"
     ]
    }
   ],
   "source": [
    "#how many words \"this\"\n",
    "with open('myfile.txt','r') as f:\n",
    "    myContent = f.read()\n",
    "    \n",
    "mycontentwords=myContent.split()\n",
    "print(mycontentwords)\n",
    "counter=0\n",
    "for word in mycontentwords:\n",
    "    if word=='this':\n",
    "       counter+=1\n",
    "        \n",
    "print(counter)        \n"
   ]
  },
  {
   "cell_type": "markdown",
   "metadata": {},
   "source": [
    "Recursive Functions"
   ]
  },
  {
   "cell_type": "code",
   "execution_count": 117,
   "metadata": {},
   "outputs": [
    {
     "name": "stdout",
     "output_type": "stream",
     "text": [
      "16\n"
     ]
    }
   ],
   "source": [
    "def power(n):\n",
    "    if n==1:\n",
    "        return 2\n",
    "    else:\n",
    "        return 2*power(n-1)\n",
    "    \n",
    "print(power(4))    \n",
    " "
   ]
  },
  {
   "cell_type": "code",
   "execution_count": 119,
   "metadata": {},
   "outputs": [
    {
     "name": "stdout",
     "output_type": "stream",
     "text": [
      "6\n"
     ]
    }
   ],
   "source": [
    "def fact(n):\n",
    "    if n==0 or n==1:\n",
    "        return 1\n",
    "    else:\n",
    "        return n*fact(n-1)\n",
    "\n",
    "print(fact(3))\n"
   ]
  },
  {
   "cell_type": "code",
   "execution_count": 120,
   "metadata": {},
   "outputs": [
    {
     "name": "stdout",
     "output_type": "stream",
     "text": [
      "[1]\n",
      "[2]\n",
      "[3]\n",
      "[4]\n",
      "[5]\n",
      "[6]\n",
      "[7]\n"
     ]
    }
   ],
   "source": [
    "#split elemnts of a list \n",
    "\n",
    "def devider(l):\n",
    "    \n",
    "    if len(l)<2:\n",
    "        print(l)\n",
    "        return \n",
    "    \n",
    "    mid = len(l)//2\n",
    "    devider(l[:mid])\n",
    "    devider(l[mid:])\n",
    "\n",
    "l = [1,2,3,4,5,6,7]\n",
    "devider(l)"
   ]
  },
  {
   "cell_type": "markdown",
   "metadata": {},
   "source": [
    "Sets and Dictionary"
   ]
  },
  {
   "cell_type": "code",
   "execution_count": 168,
   "metadata": {},
   "outputs": [
    {
     "name": "stdout",
     "output_type": "stream",
     "text": [
      "mean 15.833333333333334\n",
      "mean 16.833333333333332\n",
      "mean 18.666666666666668\n"
     ]
    }
   ],
   "source": [
    "#how to add scores of a class in dic  and find mean for each course\n",
    "\n",
    "dic = {'math':[10,14,20,19,15,17], 'art':[20,19,20,14,13,15], 'science':[20,19,18,19,16,20]}\n",
    "\n",
    "\n",
    "\n",
    "for key in dic.keys():\n",
    "    summ=0 \n",
    "    for score in dic[key]:\n",
    "        #print(score)\n",
    "        summ=summ+score\n",
    "    print('mean',summ/len(dic[key]))\n",
    "    \n",
    "   \n",
    "     \n",
    "\n"
   ]
  },
  {
   "cell_type": "code",
   "execution_count": 188,
   "metadata": {},
   "outputs": [
    {
     "name": "stdout",
     "output_type": "stream",
     "text": [
      "Life is beautiful. You must not get disappointed. Life is short,enjoy it.\n",
      "['Life', 'is', 'beautiful', 'You', 'must', 'not', 'get', 'disappointed', 'Life', 'is', 'short,enjoy', 'it']\n",
      "Our dictionary is:\n",
      "  {'Life': 2, 'is': 2, 'beautiful': 1, 'You': 1, 'must': 1, 'not': 1, 'get': 1, 'disappointed': 1, 'short,enjoy': 1, 'it': 1}\n",
      "\n",
      " dict_items([('Life', 2), ('is', 2), ('beautiful', 1), ('You', 1), ('must', 1), ('not', 1), ('get', 1), ('disappointed', 1), ('short,enjoy', 1), ('it', 1)])\n",
      "\n",
      " Be happy\n"
     ]
    }
   ],
   "source": [
    "s='Life is beautiful. You must not get disappointed. Life is short,enjoy it.'\n",
    "\n",
    "with open('Rose','w') as f:\n",
    "    myContent = f.write(s)\n",
    "    \n",
    "with open('Rose','r') as f:\n",
    "    myContent = f.read()    \n",
    "    \n",
    "print(myContent)   \n",
    "\n",
    "myContent = myContent.replace('.','')\n",
    "words = myContent.split()\n",
    "\n",
    "print(words)\n",
    "\n",
    "wordDict2 = dict()\n",
    "\n",
    "for w in words:\n",
    "    if w in wordDict2.keys():\n",
    "         wordDict2[w]+=1 \n",
    "    else:\n",
    "         wordDict2[w]=1 \n",
    "            \n",
    "print('Our dictionary is:\\n ', wordDict2)    \n",
    "\n",
    "print('\\n',wordDict2.items())\n",
    "\n",
    "for (k,v) in wordDict2.items():\n",
    "    if k=='Life'or k=='life':\n",
    "        print('\\n Be happy')\n",
    "    \n"
   ]
  },
  {
   "cell_type": "markdown",
   "metadata": {},
   "source": [
    "Sort Algorithms"
   ]
  },
  {
   "cell_type": "code",
   "execution_count": 196,
   "metadata": {},
   "outputs": [
    {
     "name": "stdout",
     "output_type": "stream",
     "text": [
      "dic =  {0: 123, '1': 'fist val', 2: 'second val', '4th key': 3}\n",
      "dictionary keys:  dict_keys(['1', '2'])\n",
      "dictionary values:  dict_values(['Life', 'Happy'])\n",
      "items:  dict_items([('1', 'Life'), ('2', 'Happy')])\n",
      "pop last item:  ('2', 'Happy')\n",
      "pop a  of a key Life\n"
     ]
    }
   ],
   "source": [
    "dic=dict()\n",
    "dic = {0:123, '1':'fist val', 2:'second val', '4th key': 3}\n",
    "print('dic = ',dic)\n",
    "\n",
    "dic={'1':'Life', '2':'Happy'}\n",
    "print('dictionary keys: ',dic.keys()) \n",
    "print('dictionary values: ',dic.values()) \n",
    "print('items: ',dic.items()) \n",
    "print('pop last item: ', dic.popitem()) \n",
    "print('pop a  of a key',dic.pop('1'))"
   ]
  }
 ],
 "metadata": {
  "kernelspec": {
   "display_name": "Python 3",
   "language": "python",
   "name": "python3"
  },
  "language_info": {
   "codemirror_mode": {
    "name": "ipython",
    "version": 3
   },
   "file_extension": ".py",
   "mimetype": "text/x-python",
   "name": "python",
   "nbconvert_exporter": "python",
   "pygments_lexer": "ipython3",
   "version": "3.8.5"
  }
 },
 "nbformat": 4,
 "nbformat_minor": 4
}
